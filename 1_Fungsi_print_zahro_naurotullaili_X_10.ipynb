{
  "nbformat": 4,
  "nbformat_minor": 0,
  "metadata": {
    "colab": {
      "provenance": [],
      "authorship_tag": "ABX9TyNz79Jc2DwF3je1YQH3WR1t",
      "include_colab_link": true
    },
    "kernelspec": {
      "name": "python3",
      "display_name": "Python 3"
    },
    "language_info": {
      "name": "python"
    }
  },
  "cells": [
    {
      "cell_type": "markdown",
      "metadata": {
        "id": "view-in-github",
        "colab_type": "text"
      },
      "source": [
        "<a href=\"https://colab.research.google.com/github/zahrolaili05/KKA-X-Semester-1/blob/main/1_Fungsi_print_zahro_naurotullaili_X_10.ipynb\" target=\"_parent\"><img src=\"https://colab.research.google.com/assets/colab-badge.svg\" alt=\"Open In Colab\"/></a>"
      ]
    },
    {
      "cell_type": "code",
      "execution_count": null,
      "metadata": {
        "colab": {
          "base_uri": "https://localhost:8080/"
        },
        "id": "23BbpMtkPHvu",
        "outputId": "2c2b1bf4-62f4-4c0e-f64f-eb86b9b93716"
      },
      "outputs": [
        {
          "output_type": "stream",
          "name": "stdout",
          "text": [
            "nama panggilan siswa tersebut adalah Zahro\n"
          ]
        }
      ],
      "source": [
        "namapanggilansiswa= \"Zahro\"\n",
        "print(\"nama panggilan siswa tersebut adalah\",namapanggilansiswa) #sudah ada spasinya"
      ]
    },
    {
      "cell_type": "code",
      "source": [
        "print(f\"nama panggilan siswa tersebut adalah {namapanggilansiswa} loh!\")"
      ],
      "metadata": {
        "colab": {
          "base_uri": "https://localhost:8080/"
        },
        "id": "7qXxdusuP3aN",
        "outputId": "23b4d954-9a63-47fa-92d5-e321f31f86f6"
      },
      "execution_count": null,
      "outputs": [
        {
          "output_type": "stream",
          "name": "stdout",
          "text": [
            "nama panggilan siswa tersebut adalah Zahro loh!\n"
          ]
        }
      ]
    },
    {
      "cell_type": "code",
      "source": [
        "print (\"nama: Zahro Naurotullaili\")\n",
        "print (\"kelas:X.10\")\n",
        "print (\"no absen:34\")"
      ],
      "metadata": {
        "colab": {
          "base_uri": "https://localhost:8080/"
        },
        "id": "q2-DIlEOQRGx",
        "outputId": "9fe74259-838f-4003-b732-edf6bf876d99"
      },
      "execution_count": null,
      "outputs": [
        {
          "output_type": "stream",
          "name": "stdout",
          "text": [
            "nama: Zahro Naurotullaili\n",
            "kelas:X.10\n",
            "no absen:34\n"
          ]
        }
      ]
    },
    {
      "cell_type": "code",
      "source": [
        "print(\"nama\\t\\t: Zahro Naurotullaili\\nkelas\\t\\t:X.10\\nno Absen\\t:34\")"
      ],
      "metadata": {
        "colab": {
          "base_uri": "https://localhost:8080/"
        },
        "id": "X78hwZiTQpu2",
        "outputId": "61ad4d54-41ef-4321-9d5e-e5e665019cac"
      },
      "execution_count": null,
      "outputs": [
        {
          "output_type": "stream",
          "name": "stdout",
          "text": [
            "nama\t\t: Zahro Naurotullaili\n",
            "kelas\t\t:X.10\n",
            "no Absen\t:34\n"
          ]
        }
      ]
    },
    {
      "cell_type": "code",
      "source": [
        "print(\"\"\"nama: Zahro Naurotullaili\n",
        "kelas: X.10\n",
        "no absen:34\"\"\")"
      ],
      "metadata": {
        "colab": {
          "base_uri": "https://localhost:8080/"
        },
        "id": "04QsA4YTRQrX",
        "outputId": "fa98baea-940d-4723-8345-6accabe325bf"
      },
      "execution_count": null,
      "outputs": [
        {
          "output_type": "stream",
          "name": "stdout",
          "text": [
            "nama: Zahro Naurotullaili \n",
            "kelas: X.10\n",
            "no absen:34\n"
          ]
        }
      ]
    },
    {
      "cell_type": "code",
      "source": [
        "\n",
        "nama= \"Zahro\"\n",
        "print (nama)"
      ],
      "metadata": {
        "colab": {
          "base_uri": "https://localhost:8080/"
        },
        "id": "zC23ji3a3BXK",
        "outputId": "714bceb7-1011-4646-aa74-82f7db227bf5"
      },
      "execution_count": null,
      "outputs": [
        {
          "output_type": "stream",
          "name": "stdout",
          "text": [
            "Zahro\n"
          ]
        }
      ]
    },
    {
      "cell_type": "code",
      "source": [
        "usia= 16\n",
        "print (usia)"
      ],
      "metadata": {
        "colab": {
          "base_uri": "https://localhost:8080/"
        },
        "id": "G1W0SVrs3Pcp",
        "outputId": "f0c3e91f-aa74-4a03-92bb-a0c18ad1110b"
      },
      "execution_count": null,
      "outputs": [
        {
          "output_type": "stream",
          "name": "stdout",
          "text": [
            "16\n"
          ]
        }
      ]
    },
    {
      "cell_type": "markdown",
      "source": [
        "#3. Menampilkan Teks Bebas dan Nilai Variabel"
      ],
      "metadata": {
        "id": "LNv3srIy3ZKb"
      }
    },
    {
      "cell_type": "code",
      "source": [
        "print(\"Halo perkenalkan nama saya\", nama,\". Usia saya\", usia, \"tahun.\")"
      ],
      "metadata": {
        "colab": {
          "base_uri": "https://localhost:8080/"
        },
        "id": "Q4hPMlmh4K_S",
        "outputId": "e391d1c4-6b32-41df-b8d2-86243aa20a6a"
      },
      "execution_count": null,
      "outputs": [
        {
          "output_type": "stream",
          "name": "stdout",
          "text": [
            "Halo perkenalkan nama saya Zahro . Usia saya 16 tahun.\n"
          ]
        }
      ]
    },
    {
      "cell_type": "code",
      "source": [
        "print(\"Halo perkenalkan nama saya \" + nama+ \". Usia saya \"+ str(usia)+ \" tahun.\")"
      ],
      "metadata": {
        "colab": {
          "base_uri": "https://localhost:8080/"
        },
        "id": "9nhEo_k95cpq",
        "outputId": "bd399c06-14b0-4aca-a247-80d5f17cedbe"
      },
      "execution_count": null,
      "outputs": [
        {
          "output_type": "stream",
          "name": "stdout",
          "text": [
            "Halo perkenalkan nama saya Zahro. Usia saya 16 tahun.\n"
          ]
        }
      ]
    },
    {
      "cell_type": "code",
      "source": [
        "print (f\"Halo nama saya {nama}. Usia saya {usia} tahun.\")"
      ],
      "metadata": {
        "colab": {
          "base_uri": "https://localhost:8080/"
        },
        "id": "q6gfWWm-EGB9",
        "outputId": "17bef861-a605-452c-e632-2d373d3dde06"
      },
      "execution_count": null,
      "outputs": [
        {
          "output_type": "stream",
          "name": "stdout",
          "text": [
            "Halo nama saya Zahro. Usia saya 16 tahun.\n"
          ]
        }
      ]
    },
    {
      "cell_type": "code",
      "source": [
        "print (\" Nama: Zahro N\n",
        "         Kelas: X10\n",
        "         No Absen: 34\")"
      ],
      "metadata": {
        "colab": {
          "base_uri": "https://localhost:8080/",
          "height": 141
        },
        "id": "omNEcIGnHS2Y",
        "outputId": "56a54a0e-9cd0-4da0-866d-a6a480d1d71d"
      },
      "execution_count": null,
      "outputs": [
        {
          "output_type": "error",
          "ename": "SyntaxError",
          "evalue": "unterminated string literal (detected at line 1) (ipython-input-3166007698.py, line 1)",
          "traceback": [
            "\u001b[0;36m  File \u001b[0;32m\"/tmp/ipython-input-3166007698.py\"\u001b[0;36m, line \u001b[0;32m1\u001b[0m\n\u001b[0;31m    print (\" Nama: Zahro N\u001b[0m\n\u001b[0m           ^\u001b[0m\n\u001b[0;31mSyntaxError\u001b[0m\u001b[0;31m:\u001b[0m unterminated string literal (detected at line 1)\n"
          ]
        }
      ]
    },
    {
      "cell_type": "code",
      "source": [
        "print (\"Nama\\t\\t: Zahro N\\nKelas\\t\\t: X10\\nNoAbsen\\t\\t: 29\")"
      ],
      "metadata": {
        "colab": {
          "base_uri": "https://localhost:8080/"
        },
        "id": "jys9iREZHkvo",
        "outputId": "dead2d9a-0a74-4282-a92d-20dee860f9df"
      },
      "execution_count": null,
      "outputs": [
        {
          "output_type": "stream",
          "name": "stdout",
          "text": [
            "Nama\t\t: Zahro N\n",
            "Kelas\t\t: X10\n",
            "NoAbsen\t\t: 29\n"
          ]
        }
      ]
    },
    {
      "cell_type": "code",
      "source": [
        "print (\"Bu shinta berkata,\\\"makan sosis sonice.\\\"\")"
      ],
      "metadata": {
        "colab": {
          "base_uri": "https://localhost:8080/"
        },
        "id": "oiACLpzq5slO",
        "outputId": "892e5155-6a31-42ec-d5ec-712421798d7a"
      },
      "execution_count": null,
      "outputs": [
        {
          "output_type": "stream",
          "name": "stdout",
          "text": [
            "Bu shinta berkata,\"makan sosis sonice.\"\n"
          ]
        }
      ]
    },
    {
      "cell_type": "code",
      "source": [
        "print ('Bu shinta berkata,\"makan sosis sonice\"')"
      ],
      "metadata": {
        "colab": {
          "base_uri": "https://localhost:8080/"
        },
        "id": "E2zymJ7g5_hB",
        "outputId": "4f96d2a8-3153-4956-9954-08f5c072df9c"
      },
      "execution_count": null,
      "outputs": [
        {
          "output_type": "stream",
          "name": "stdout",
          "text": [
            "Bu shinta berkata,\"makan sosis sonice\"\n"
          ]
        }
      ]
    },
    {
      "cell_type": "code",
      "source": [
        "print (\"simpan file di local disk D:\\\\MAN DEMAK\\\\KKA\")"
      ],
      "metadata": {
        "colab": {
          "base_uri": "https://localhost:8080/"
        },
        "id": "SthOp3nx6HYH",
        "outputId": "261c0532-7043-4215-e673-4264f043aed7"
      },
      "execution_count": null,
      "outputs": [
        {
          "output_type": "stream",
          "name": "stdout",
          "text": [
            "simpan file di local disk D:\\MAN DEMAK\\KKA\n"
          ]
        }
      ]
    },
    {
      "cell_type": "code",
      "source": [
        "print ('Ainun')"
      ],
      "metadata": {
        "colab": {
          "base_uri": "https://localhost:8080/"
        },
        "id": "-MigGfFk7drx",
        "outputId": "9a944b20-b3bc-4f0e-9764-b63d62576cfe"
      },
      "execution_count": null,
      "outputs": [
        {
          "output_type": "stream",
          "name": "stdout",
          "text": [
            "Ainun\n"
          ]
        }
      ]
    },
    {
      "cell_type": "code",
      "source": [
        "print ('A'inun')"
      ],
      "metadata": {
        "colab": {
          "base_uri": "https://localhost:8080/",
          "height": 141
        },
        "id": "UIOx31397jTn",
        "outputId": "b85d4f8f-32a1-49c8-f907-106966b2c4d7"
      },
      "execution_count": null,
      "outputs": [
        {
          "output_type": "error",
          "ename": "SyntaxError",
          "evalue": "unterminated string literal (detected at line 1) (ipython-input-4133884656.py, line 1)",
          "traceback": [
            "\u001b[0;36m  File \u001b[0;32m\"/tmp/ipython-input-4133884656.py\"\u001b[0;36m, line \u001b[0;32m1\u001b[0m\n\u001b[0;31m    print ('A'inun')\u001b[0m\n\u001b[0m                  ^\u001b[0m\n\u001b[0;31mSyntaxError\u001b[0m\u001b[0;31m:\u001b[0m unterminated string literal (detected at line 1)\n"
          ]
        }
      ]
    },
    {
      "cell_type": "code",
      "source": [
        "print (\"A'inun\")"
      ],
      "metadata": {
        "colab": {
          "base_uri": "https://localhost:8080/"
        },
        "id": "DMOuXydJ7m_W",
        "outputId": "7310acdd-6601-4b1f-8692-12d8f76b5189"
      },
      "execution_count": null,
      "outputs": [
        {
          "output_type": "stream",
          "name": "stdout",
          "text": [
            "A'inun\n"
          ]
        }
      ]
    },
    {
      "cell_type": "code",
      "source": [
        "print ('A\\'inun')"
      ],
      "metadata": {
        "colab": {
          "base_uri": "https://localhost:8080/"
        },
        "id": "Egic6GyX7wlD",
        "outputId": "902c64b7-e435-4bdd-c345-d8632587f50f"
      },
      "execution_count": null,
      "outputs": [
        {
          "output_type": "stream",
          "name": "stdout",
          "text": [
            "A'inun\n"
          ]
        }
      ]
    },
    {
      "cell_type": "code",
      "source": [
        "nama_siswa_1=\"ridju\""
      ],
      "metadata": {
        "id": "Hab8oORXHFsA"
      },
      "execution_count": null,
      "outputs": []
    },
    {
      "cell_type": "code",
      "source": [
        "nama_siswa_2=\"rafa\""
      ],
      "metadata": {
        "id": "Q8qft9oPHLK6"
      },
      "execution_count": null,
      "outputs": []
    },
    {
      "cell_type": "code",
      "source": [
        "print(nama_siswa_1)"
      ],
      "metadata": {
        "colab": {
          "base_uri": "https://localhost:8080/"
        },
        "id": "TQXyTW1hIBQ3",
        "outputId": "9dc3e74c-e7aa-4678-ec6f-f74d5a92048b"
      },
      "execution_count": null,
      "outputs": [
        {
          "output_type": "stream",
          "name": "stdout",
          "text": [
            "ridju\n"
          ]
        }
      ]
    },
    {
      "cell_type": "code",
      "source": [
        "print (nama_siswa_1, nama_siswa_2)"
      ],
      "metadata": {
        "colab": {
          "base_uri": "https://localhost:8080/"
        },
        "id": "PndaKrUsICfW",
        "outputId": "2ffb916f-7a09-4411-eacb-c792b9a84fd3"
      },
      "execution_count": null,
      "outputs": [
        {
          "output_type": "stream",
          "name": "stdout",
          "text": [
            "ridju rafa\n"
          ]
        }
      ]
    },
    {
      "cell_type": "code",
      "source": [
        "print (nama_siswa_1, nama_siswa_2, sep=\"-\")"
      ],
      "metadata": {
        "colab": {
          "base_uri": "https://localhost:8080/"
        },
        "id": "OQ6sbYZDIJwG",
        "outputId": "afe0a3b0-0e6d-4605-e310-59c9690dda95"
      },
      "execution_count": null,
      "outputs": [
        {
          "output_type": "stream",
          "name": "stdout",
          "text": [
            "ridju-rafa\n"
          ]
        }
      ]
    },
    {
      "cell_type": "code",
      "source": [
        "print(nama_siswa_1, nama_siswa_2, nama_siswa_1,  sep=\"*\")"
      ],
      "metadata": {
        "colab": {
          "base_uri": "https://localhost:8080/"
        },
        "id": "dX9Yml8bIkfM",
        "outputId": "c9fab0c7-06f4-4d53-a9d6-d66267fe2c8e"
      },
      "execution_count": null,
      "outputs": [
        {
          "output_type": "stream",
          "name": "stdout",
          "text": [
            "ridju*rafa*ridju\n"
          ]
        }
      ]
    },
    {
      "cell_type": "code",
      "source": [
        "print(nama_siswa_1,end=\"*\")\n",
        "print(nama_siswa_2)"
      ],
      "metadata": {
        "colab": {
          "base_uri": "https://localhost:8080/"
        },
        "id": "kWsbpgVmLcmS",
        "outputId": "41ae3885-24de-4d8d-8af8-d071ba3623e3"
      },
      "execution_count": null,
      "outputs": [
        {
          "output_type": "stream",
          "name": "stdout",
          "text": [
            "ridju*rafa\n"
          ]
        }
      ]
    }
  ]
}